{
 "cells": [
  {
   "cell_type": "markdown",
   "metadata": {},
   "source": [
    "Our objective is to play the game a number of times with a rule for how you plan to play.\n",
    "\n",
    "This is going to be done by a \"Monte Carlo\" method, which is any algorithm that uses a random distribution (in this case hands dealt) to evenly sample a large set of possibilities. We will need the python package \"random\" for this."
   ]
  },
  {
   "cell_type": "code",
   "execution_count": 1,
   "metadata": {},
   "outputs": [],
   "source": [
    "from random import *"
   ]
  },
  {
   "cell_type": "markdown",
   "metadata": {},
   "source": [
    "The main function should take a number of trials, a rule, and output a the number of wins, draws, and losses.\n",
    "\n",
    "Below is an empty main function which takes 2 arguments and does nothing. This will be our starting point.\n",
    "The comment is known as a \"contract\" which is a record of what you want the function to do. In this case main takes 2 arguments, an integer and function, and outputs 3 integers in a tuple which are the wins, draws, and losses.\n",
    "\n",
    "Contracts will be useful throughout this project to keep track of what functions do before you actually need to write them."
   ]
  },
  {
   "cell_type": "code",
   "execution_count": null,
   "metadata": {},
   "outputs": [],
   "source": [
    "#main(number(int), rule(function)) -> (wins(int), draws(int), losses(int))\n",
    "def main(n, rule): pass"
   ]
  },
  {
   "cell_type": "markdown",
   "metadata": {},
   "source": [
    "Starting with the main function and adding more empty functions as needed is a way of organizing your coding known as \"top down\" design. That is starting with the function that produces what you want, and then working on the supporting helper functions. E.g.:"
   ]
  },
  {
   "cell_type": "code",
   "execution_count": null,
   "metadata": {},
   "outputs": [],
   "source": [
    "#What should this function do?\n",
    "def playRound(rule): pass\n",
    "\n",
    "#main(number(int), rule(function)) -> (wins(int), draws(int), losses(int))\n",
    "def main(n, rule): \n",
    "    wins = 0\n",
    "    draws = 0\n",
    "    losses = 0\n",
    "    \n",
    "    for i in range(n):\n",
    "        result = playRound(rule)\n",
    "        if result == 'win': wins += 1\n",
    "        elif result == 'draw': draws += 1\n",
    "        else: losses += 1\n",
    "            \n",
    "    return (wins, draws, losses)"
   ]
  }
 ],
 "metadata": {
  "kernelspec": {
   "display_name": "Python 2",
   "language": "python",
   "name": "python2"
  },
  "language_info": {
   "codemirror_mode": {
    "name": "ipython",
    "version": 3
   },
   "file_extension": ".py",
   "mimetype": "text/x-python",
   "name": "python",
   "nbconvert_exporter": "python",
   "pygments_lexer": "ipython3",
   "version": "3.7.4"
  }
 },
 "nbformat": 4,
 "nbformat_minor": 2
}
